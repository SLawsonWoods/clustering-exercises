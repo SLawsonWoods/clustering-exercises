{
 "cells": [
  {
   "cell_type": "code",
   "execution_count": 1,
   "id": "1df56a11",
   "metadata": {},
   "outputs": [],
   "source": [
    "# ignore warnings\n",
    "import warnings\n",
    "warnings.filterwarnings(\"ignore\")\n",
    "\n",
    "# Wrangling\n",
    "import pandas as pd\n",
    "import numpy as np\n",
    "\n",
    "# Exploring\n",
    "import scipy.stats as stats\n",
    "\n",
    "# Visualizing\n",
    "%matplotlib inline\n",
    "import matplotlib.pyplot as plt\n",
    "import seaborn as sns\n",
    "\n",
    "# default pandas decimal number display format\n",
    "pd.options.display.float_format = '{:20,.2f}'.format\n",
    "\n",
    "import env\n",
    "# import acquire\n",
    "# import summarize\n",
    "# import prepare"
   ]
  },
  {
   "cell_type": "code",
   "execution_count": 2,
   "id": "fdb30228",
   "metadata": {},
   "outputs": [],
   "source": [
    "# use zillow;\n",
    "\n",
    "SELECT *\n",
    "    FROM properties_2017\n",
    "    LEFT OUTER JOIN airconditioningtype \n",
    "    USING(airconditioningtypeid) \n",
    "    LEFT OUTER JOIN architecturalstyletype\n",
    "    USING(architecturalstyletypeid) \n",
    "    LEFT OUTER JOIN buildingclasstype \n",
    "    USING(buildingclasstypeid) \n",
    "    LEFT OUTER JOIN heatingorsystemtype\n",
    "    USING(heatingorsystemtypeid) \n",
    "    LEFT OUTER JOIN predictions_2017\n",
    "    ON predictions_2017.id = properties_2017.id\n",
    "    INNER JOIN (\n",
    "    SELECT id, MAX(transactiondate) as last_trans_date \n",
    "    FROM predictions_2017\n",
    "    GROUP BY id\n",
    "    ) predictions ON predictions.id = properties_2017.id AND predictions_2017.transactiondate = predictions.last_trans_date\n",
    "    LEFT OUTER JOIN propertylandusetype\n",
    "    USING(propertylandusetypeid)\n",
    "      LEFT OUTER JOIN storytype\n",
    "    USING(storytypeid)\n",
    "    LEFT OUTER JOIN typeconstructiontype\n",
    "    USING(typeconstructiontypeid)\n",
    "    JOIN unique_properties\n",
    "      ON unique_properties.parcelid = properties_2017.parcelid\n",
    "    WHERE latitude IS NOT NULL and longitude IS NOT NULL; \n"
   ]
  },
  {
   "cell_type": "markdown",
   "id": "16d7fe9a",
   "metadata": {},
   "source": [
    "1. Only include properties with a transaction in 2017, and include only the last transaction for each property (so no duplicate property ID's), along with zestimate error and date of transaction.`m"
   ]
  },
  {
   "cell_type": "code",
   "execution_count": null,
   "id": "6925551c",
   "metadata": {},
   "outputs": [],
   "source": [
    "#outlier\n",
    "df = df.loc[:,~df.columns.duplicated()]"
   ]
  }
 ],
 "metadata": {
  "kernelspec": {
   "display_name": "Python 3",
   "language": "python",
   "name": "python3"
  },
  "language_info": {
   "codemirror_mode": {
    "name": "ipython",
    "version": 3
   },
   "file_extension": ".py",
   "mimetype": "text/x-python",
   "name": "python",
   "nbconvert_exporter": "python",
   "pygments_lexer": "ipython3",
   "version": "3.8.8"
  }
 },
 "nbformat": 4,
 "nbformat_minor": 5
}
