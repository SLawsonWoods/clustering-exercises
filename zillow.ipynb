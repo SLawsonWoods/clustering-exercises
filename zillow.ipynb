{
 "cells": [
  {
   "cell_type": "code",
   "execution_count": 1,
   "id": "afca54bf",
   "metadata": {},
   "outputs": [],
   "source": [
    "# ignore warnings\n",
    "import warnings\n",
    "warnings.filterwarnings(\"ignore\")\n",
    "\n",
    "# Wrangling\n",
    "import pandas as pd\n",
    "import numpy as np\n",
    "\n",
    "# Exploring\n",
    "import scipy.stats as stats\n",
    "\n",
    "# Visualizing\n",
    "%matplotlib inline\n",
    "import matplotlib.pyplot as plt\n",
    "import seaborn as sns\n",
    "\n",
    "# default pandas decimal number display format\n",
    "pd.options.display.float_format = '{:20,.2f}'.format\n",
    "\n",
    "import env\n",
    "# import acquire\n",
    "# import summarize\n",
    "# import prepare"
   ]
  },
  {
   "cell_type": "code",
   "execution_count": 2,
   "id": "12152b23",
   "metadata": {},
   "outputs": [],
   "source": [
    "# use zillow;\n",
    "\n",
    "# 1. this is what i did first...create a dataset with each parcelid and their last transaction date. \n",
    "select parcelid, max(transactiondate) as transactiondate\n",
    "from predictions_2017\n",
    "group by parcelid as txn on prop.parcelid = txn.parcelid using(parcelid)\n",
    "\n",
    "        \n",
    "# 2. next I selected 2 columns from the primary table (properties_2017) and inner joined with the txn date subquery\n",
    "select prop.parcelid, \n",
    "prop.airconditioningtypeid,\n",
    "ac.airconditioningdesc,\n",
    "txn.transactiondate, \n",
    "pred.logerror,\n",
    "\n",
    "-- # 3:     \n",
    "join predictions_2017 as pred  on prop.parcelid = pred.parcelid and pred.transactiondate = txn.transactiondate \n",
    "using(parcelid, transactiondate)\n",
    "\n",
    "# 4. finally I did a left join with the airconditioning table to get the description. \n",
    "left join airconditioningtype as ac on prop.airconditioningtypeid = ac.airconditioningtypeid\n",
    ";\n",
    "\n"
   ]
  },
  {
   "cell_type": "markdown",
   "id": "2a62a6d5",
   "metadata": {},
   "source": [
    "1. Only include properties with a transaction in 2017, and include only the last transaction for each property (so no duplicate property ID's), along with zestimate error and date of transaction.`m"
   ]
  },
  {
   "cell_type": "code",
   "execution_count": null,
   "id": "6c144c7d",
   "metadata": {},
   "outputs": [],
   "source": [
    "#outlier\n",
    "df = df.loc[:,~df.columns.duplicated()]"
   ]
  }
 ],
 "metadata": {
  "kernelspec": {
   "display_name": "Python 3",
   "language": "python",
   "name": "python3"
  },
  "language_info": {
   "codemirror_mode": {
    "name": "ipython",
    "version": 3
   },
   "file_extension": ".py",
   "mimetype": "text/x-python",
   "name": "python",
   "nbconvert_exporter": "python",
   "pygments_lexer": "ipython3",
   "version": "3.8.8"
  }
 },
 "nbformat": 4,
 "nbformat_minor": 5
}
